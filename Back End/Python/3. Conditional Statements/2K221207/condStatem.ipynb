{
 "cells": [
  {
   "cell_type": "markdown",
   "metadata": {},
   "source": [
    "Equal function to evaluate expression\n",
    "\n",
    "Statements in python\n",
    "1. if\n",
    "2. elif\n",
    "3. else"
   ]
  },
  {
   "cell_type": "code",
   "execution_count": 1,
   "metadata": {},
   "outputs": [
    {
     "name": "stdout",
     "output_type": "stream",
     "text": [
      "greater\n"
     ]
    }
   ],
   "source": [
    "# 1. if\n",
    "\n",
    "x = 5\n",
    "if x < 3:\n",
    "    print(\"smaller\")\n",
    "else:\n",
    "    print(\"greater\")"
   ]
  },
  {
   "cell_type": "code",
   "execution_count": 8,
   "metadata": {},
   "outputs": [
    {
     "name": "stdout",
     "output_type": "stream",
     "text": [
      "one\n"
     ]
    }
   ],
   "source": [
    "# 2. elif\n",
    "x = 1\n",
    "if x == 1:\n",
    "    print(\"one\")\n",
    "elif x == 2:\n",
    "    print(\"two\")\n",
    "elif x == 3:\n",
    "    print(\"three\")\n",
    "else:\n",
    "    print(\"Wrong input\")"
   ]
  }
 ],
 "metadata": {
  "kernelspec": {
   "display_name": "Python 3.10.7 64-bit",
   "language": "python",
   "name": "python3"
  },
  "language_info": {
   "codemirror_mode": {
    "name": "ipython",
    "version": 3
   },
   "file_extension": ".py",
   "mimetype": "text/x-python",
   "name": "python",
   "nbconvert_exporter": "python",
   "pygments_lexer": "ipython3",
   "version": "3.10.7"
  },
  "orig_nbformat": 4,
  "vscode": {
   "interpreter": {
    "hash": "b2c1096f6ea12d5a3c84fe59870a57c62b4a03260771d23fddb93db0678b35d7"
   }
  }
 },
 "nbformat": 4,
 "nbformat_minor": 2
}
