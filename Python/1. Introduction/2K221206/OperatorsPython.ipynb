{
 "cells": [
  {
   "cell_type": "markdown",
   "metadata": {},
   "source": [
    "Operators in Python\n",
    "1. Arithmetic [+,-,*,/,%]\n",
    "2. Assignment [=,+=,-=,*=,/=,%=]\n",
    "3. Relational [<,>,==,<=,>=,!=]\n",
    "4. Logical    [AND,OR,NOT]\n",
    "5. Unary      [ _ ]"
   ]
  },
  {
   "cell_type": "code",
   "execution_count": 3,
   "metadata": {},
   "outputs": [
    {
     "name": "stdout",
     "output_type": "stream",
     "text": [
      "5\n",
      "7\n",
      "21\n"
     ]
    }
   ],
   "source": [
    "# 1. Assignment Operator\n",
    "x = 5\n",
    "print(x)\n",
    "x += 2\n",
    "print(x)\n",
    "x *= 3\n",
    "print(x)"
   ]
  },
  {
   "cell_type": "code",
   "execution_count": 6,
   "metadata": {},
   "outputs": [
    {
     "name": "stdout",
     "output_type": "stream",
     "text": [
      "5 6\n"
     ]
    }
   ],
   "source": [
    "# Assign two values at time\n",
    "a,b = 5,6\n",
    "print(a , b)"
   ]
  },
  {
   "cell_type": "code",
   "execution_count": 8,
   "metadata": {},
   "outputs": [
    {
     "name": "stdout",
     "output_type": "stream",
     "text": [
      "7\n",
      "-7\n"
     ]
    }
   ],
   "source": [
    "# 2. Unary operator\n",
    "n = 7\n",
    "print(n)\n",
    "n = -n\n",
    "print(n)"
   ]
  },
  {
   "cell_type": "code",
   "execution_count": 9,
   "metadata": {},
   "outputs": [
    {
     "data": {
      "text/plain": [
       "False"
      ]
     },
     "execution_count": 9,
     "metadata": {},
     "output_type": "execute_result"
    }
   ],
   "source": [
    "# 3. Relational Operator\n",
    "a < b\n",
    "a > b\n",
    "a == b"
   ]
  },
  {
   "cell_type": "code",
   "execution_count": 22,
   "metadata": {},
   "outputs": [
    {
     "name": "stdout",
     "output_type": "stream",
     "text": [
      "True\n",
      "True\n"
     ]
    }
   ],
   "source": [
    "# 4. Logical Operators\n",
    "a = 5\n",
    "b = 4\n",
    "print(a < 8 and b < 5)\n",
    "print(a < 8 or b < 2)"
   ]
  },
  {
   "cell_type": "code",
   "execution_count": 26,
   "metadata": {},
   "outputs": [
    {
     "name": "stdout",
     "output_type": "stream",
     "text": [
      "True\n",
      "False\n",
      "False\n"
     ]
    }
   ],
   "source": [
    "# Not --> Reverse the output\n",
    "x = True\n",
    "print(x)\n",
    "print(not x)\n",
    "x = not x\n",
    "print(x)"
   ]
  },
  {
   "cell_type": "markdown",
   "metadata": {},
   "source": [
    "# Number System conversion\n",
    "Binary, Hexadecimal, Octal"
   ]
  },
  {
   "cell_type": "code",
   "execution_count": 27,
   "metadata": {},
   "outputs": [
    {
     "data": {
      "text/plain": [
       "'0b11001'"
      ]
     },
     "execution_count": 27,
     "metadata": {},
     "output_type": "execute_result"
    }
   ],
   "source": [
    "# 1. Decimal to Binary\n",
    "bin(25)"
   ]
  },
  {
   "cell_type": "code",
   "execution_count": 28,
   "metadata": {},
   "outputs": [
    {
     "data": {
      "text/plain": [
       "25"
      ]
     },
     "execution_count": 28,
     "metadata": {},
     "output_type": "execute_result"
    }
   ],
   "source": [
    "# 2. Binary to Decimal\n",
    "0b11001"
   ]
  },
  {
   "cell_type": "code",
   "execution_count": 29,
   "metadata": {},
   "outputs": [
    {
     "data": {
      "text/plain": [
       "'0o31'"
      ]
     },
     "execution_count": 29,
     "metadata": {},
     "output_type": "execute_result"
    }
   ],
   "source": [
    "# 3. Decimal to Octal\n",
    "oct(25)"
   ]
  },
  {
   "cell_type": "code",
   "execution_count": 30,
   "metadata": {},
   "outputs": [
    {
     "data": {
      "text/plain": [
       "'0x19'"
      ]
     },
     "execution_count": 30,
     "metadata": {},
     "output_type": "execute_result"
    }
   ],
   "source": [
    "# 4. Decimal to Hex\n",
    "hex(25)"
   ]
  },
  {
   "cell_type": "code",
   "execution_count": 33,
   "metadata": {},
   "outputs": [
    {
     "name": "stdout",
     "output_type": "stream",
     "text": [
      "25\n",
      "15\n"
     ]
    }
   ],
   "source": [
    "# 5. Hex to Decimal\n",
    "print(0x19)\n",
    "print(0xF)"
   ]
  },
  {
   "cell_type": "markdown",
   "metadata": {},
   "source": [
    "# Bitwise operators\n",
    "1. Complement (~) tilde\n",
    "2. And (&)\n",
    "3. OR (||)\n",
    "4. XOR (^)\n",
    "5. Left Shift (<<)\n",
    "6. Right Shift (>>)"
   ]
  },
  {
   "cell_type": "code",
   "execution_count": 34,
   "metadata": {},
   "outputs": [
    {
     "data": {
      "text/plain": [
       "-13"
      ]
     },
     "execution_count": 34,
     "metadata": {},
     "output_type": "execute_result"
    }
   ],
   "source": [
    "# 1. Complement\n",
    "~12"
   ]
  },
  {
   "cell_type": "markdown",
   "metadata": {},
   "source": [
    "    0000 1100  --> 12\n",
    "    ---------\n",
    "    1111 0011  --> -13\n",
    "        + 111\n",
    "    ---------\n",
    "    0111 0100\n",
    "\n",
    "2's complement = 1's complement + 1"
   ]
  },
  {
   "cell_type": "code",
   "execution_count": 35,
   "metadata": {},
   "outputs": [
    {
     "data": {
      "text/plain": [
       "12"
      ]
     },
     "execution_count": 35,
     "metadata": {},
     "output_type": "execute_result"
    }
   ],
   "source": [
    "# 2. And (&)\n",
    "12 & 13"
   ]
  },
  {
   "cell_type": "markdown",
   "metadata": {},
   "source": [
    "And Operator\n",
    "| a | b | a & b |\n",
    "|---------------|\n",
    "| 0 | 0 |   0   |\n",
    "| 0 | 1 |   0   |\n",
    "| 1 | 0 |   0   |\n",
    "| 1 | 1 |   1   |\n",
    "-----------------\n",
    "\n",
    "i.e. 1 & 1 --> 1 Otherwise 0\n",
    "\n",
    "Ex. 12 & 13\n",
    "    0000 1100  --> 12\n",
    "    0000 1101  --> 13\n",
    "    ---------\n",
    "    0000 1100  --> 12"
   ]
  },
  {
   "cell_type": "code",
   "execution_count": 37,
   "metadata": {},
   "outputs": [
    {
     "data": {
      "text/plain": [
       "13"
      ]
     },
     "execution_count": 37,
     "metadata": {},
     "output_type": "execute_result"
    }
   ],
   "source": [
    "# 3. OR (||)\n",
    "12 | 13"
   ]
  },
  {
   "cell_type": "markdown",
   "metadata": {},
   "source": [
    "OR Operator\n",
    "| a | b | a | b |\n",
    "|---------------|\n",
    "| 0 | 0 |   0   |\n",
    "| 0 | 1 |   1   |\n",
    "| 1 | 0 |   1   |\n",
    "| 1 | 1 |   1   |\n",
    "-----------------\n",
    "\n",
    "i.e. 0 | 0 --> 0 Otherwise 1\n",
    "\n",
    "Ex. 12 | 13 --> 13\n",
    "    0000 1100 --> 12\n",
    "    0000 1101 --> 13\n",
    "    ---------\n",
    "    0000 1101 --> 13"
   ]
  },
  {
   "cell_type": "code",
   "execution_count": 38,
   "metadata": {},
   "outputs": [
    {
     "data": {
      "text/plain": [
       "1"
      ]
     },
     "execution_count": 38,
     "metadata": {},
     "output_type": "execute_result"
    }
   ],
   "source": [
    "# 4. XOR (^)\n",
    "12 ^ 13"
   ]
  },
  {
   "cell_type": "markdown",
   "metadata": {},
   "source": [
    "XOR Operator\n",
    "| a | b | a ^ b |\n",
    "|---------------|\n",
    "| 0 | 0 |   0   |\n",
    "| 0 | 1 |   1   |\n",
    "| 1 | 0 |   1   |\n",
    "| 1 | 1 |   0   |\n",
    "-----------------\n",
    "\n",
    "i.e. 0 ^ 0 and 1 ^ 1 --> 0 Otherwise 1\n",
    "\n",
    "Ex. 12 ^ 13 --> 13\n",
    "    0000 1100 --> 12\n",
    "    0000 1101 --> 13\n",
    "    ---------\n",
    "    0000 0001 --> 1"
   ]
  },
  {
   "cell_type": "code",
   "execution_count": 39,
   "metadata": {},
   "outputs": [
    {
     "data": {
      "text/plain": [
       "40"
      ]
     },
     "execution_count": 39,
     "metadata": {},
     "output_type": "execute_result"
    }
   ],
   "source": [
    "# 5. left shift\n",
    "10 << 2"
   ]
  },
  {
   "cell_type": "markdown",
   "metadata": {},
   "source": [
    "Left shift operator\n",
    "\n",
    "1010.0000  --> 10\n",
    "101000.00  --> 40"
   ]
  },
  {
   "cell_type": "code",
   "execution_count": 40,
   "metadata": {},
   "outputs": [
    {
     "data": {
      "text/plain": [
       "2"
      ]
     },
     "execution_count": 40,
     "metadata": {},
     "output_type": "execute_result"
    }
   ],
   "source": [
    "# 6. Right shift\n",
    "10 >> 2"
   ]
  },
  {
   "cell_type": "markdown",
   "metadata": {},
   "source": [
    "Right Shift\n",
    "\n",
    "1010.0000 --> 10\n",
    "10.100000 --> 2"
   ]
  },
  {
   "cell_type": "markdown",
   "metadata": {},
   "source": [
    "# Mathematical Functions"
   ]
  },
  {
   "cell_type": "code",
   "execution_count": 43,
   "metadata": {},
   "outputs": [
    {
     "ename": "NameError",
     "evalue": "name 'sqrt' is not defined",
     "output_type": "error",
     "traceback": [
      "\u001b[1;31m---------------------------------------------------------------------------\u001b[0m",
      "\u001b[1;31mNameError\u001b[0m                                 Traceback (most recent call last)",
      "Cell \u001b[1;32mIn[43], line 2\u001b[0m\n\u001b[0;32m      1\u001b[0m \u001b[39m# 1. Square root of number\u001b[39;00m\n\u001b[1;32m----> 2\u001b[0m x \u001b[39m=\u001b[39m sqrt(\u001b[39m25\u001b[39m)\n",
      "\u001b[1;31mNameError\u001b[0m: name 'sqrt' is not defined"
     ]
    }
   ],
   "source": [
    "# 1. Square root of number\n",
    "x = sqrt(25)"
   ]
  },
  {
   "cell_type": "code",
   "execution_count": 47,
   "metadata": {},
   "outputs": [
    {
     "name": "stdout",
     "output_type": "stream",
     "text": [
      "5.0\n"
     ]
    }
   ],
   "source": [
    "import math\n",
    "x = math.sqrt(25)\n",
    "print(x)"
   ]
  },
  {
   "cell_type": "code",
   "execution_count": 48,
   "metadata": {},
   "outputs": [
    {
     "name": "stdout",
     "output_type": "stream",
     "text": [
      "2\n",
      "3\n"
     ]
    }
   ],
   "source": [
    "# 2. Floor and ceil function\n",
    "# Ex.\n",
    "# 2.9\n",
    "# 3 --> ceil\n",
    "# 2 --> floor\n",
    "\n",
    "print(math.floor(2.9))\n",
    "print(math.ceil(2.2))"
   ]
  },
  {
   "cell_type": "code",
   "execution_count": 50,
   "metadata": {},
   "outputs": [
    {
     "name": "stdout",
     "output_type": "stream",
     "text": [
      "9.0\n"
     ]
    }
   ],
   "source": [
    "# 3. POW function\n",
    "\n",
    "print(math.pow(3,2))"
   ]
  },
  {
   "cell_type": "code",
   "execution_count": 51,
   "metadata": {},
   "outputs": [
    {
     "name": "stdout",
     "output_type": "stream",
     "text": [
      "3.141592653589793\n"
     ]
    }
   ],
   "source": [
    "# 4. Pi\n",
    "\n",
    "print(math.pi)"
   ]
  },
  {
   "cell_type": "code",
   "execution_count": 53,
   "metadata": {},
   "outputs": [
    {
     "name": "stdout",
     "output_type": "stream",
     "text": [
      "2.718281828459045\n"
     ]
    }
   ],
   "source": [
    "# 5. e --> epsilon\n",
    "\n",
    "print(math.e)"
   ]
  }
 ],
 "metadata": {
  "kernelspec": {
   "display_name": "Python 3.10.7 64-bit",
   "language": "python",
   "name": "python3"
  },
  "language_info": {
   "codemirror_mode": {
    "name": "ipython",
    "version": 3
   },
   "file_extension": ".py",
   "mimetype": "text/x-python",
   "name": "python",
   "nbconvert_exporter": "python",
   "pygments_lexer": "ipython3",
   "version": "3.10.7"
  },
  "orig_nbformat": 4,
  "vscode": {
   "interpreter": {
    "hash": "b2c1096f6ea12d5a3c84fe59870a57c62b4a03260771d23fddb93db0678b35d7"
   }
  }
 },
 "nbformat": 4,
 "nbformat_minor": 2
}
